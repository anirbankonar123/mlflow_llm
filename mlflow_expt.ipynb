{
 "cells": [
  {
   "cell_type": "code",
   "execution_count": 1,
   "id": "f0b395d8",
   "metadata": {},
   "outputs": [
    {
     "name": "stderr",
     "output_type": "stream",
     "text": [
      "/home/anish/anaconda3/envs/mlflow/lib/python3.8/site-packages/pydantic/_internal/_fields.py:127: UserWarning: Field \"model_server_url\" has conflict with protected namespace \"model_\".\n",
      "\n",
      "You may be able to resolve this warning by setting `model_config['protected_namespaces'] = ()`.\n",
      "  warnings.warn(\n",
      "/home/anish/anaconda3/envs/mlflow/lib/python3.8/site-packages/pydantic/_internal/_config.py:269: UserWarning: Valid config keys have changed in V2:\n",
      "* 'schema_extra' has been renamed to 'json_schema_extra'\n",
      "  warnings.warn(message, UserWarning)\n"
     ]
    }
   ],
   "source": [
    "import mlflow\n",
    "import openai\n",
    "import os\n",
    "import pandas as pd\n",
    "\n",
    "# you must set the OPENAI_API_KEY environment variable\n",
    "assert \"OPENAI_API_KEY\" in os.environ, \"Please set the OPENAI_API_KEY environment variable.\"\n",
    "mlflow.end_run()"
   ]
  },
  {
   "cell_type": "code",
   "execution_count": null,
   "id": "46a953c2",
   "metadata": {},
   "outputs": [
    {
     "data": {
      "application/vnd.jupyter.widget-view+json": {
       "model_id": "55bfac155a53414e985d1156eb8d92f1",
       "version_major": 2,
       "version_minor": 0
      },
      "text/plain": [
       "Downloading artifacts:   0%|          | 0/5 [00:00<?, ?it/s]"
      ]
     },
     "metadata": {},
     "output_type": "display_data"
    },
    {
     "name": "stderr",
     "output_type": "stream",
     "text": [
      "2023/10/20 20:58:47 INFO mlflow.models.evaluation.base: Evaluating the model with the default evaluator.\n"
     ]
    }
   ],
   "source": [
    "\n",
    "# set the experiment id\n",
    "mlflow.set_experiment(experiment_id=\"874674834457735198\")\n",
    "mlflow.set_tracking_uri(\"http://127.0.0.1:5000\")\n",
    "\n",
    "system_prompt = \"You are a world-class Python developer with an eagle eye for unintended bugs and edge cases. You carefully explain code with great detail and accuracy. You organize your explanations in markdown-formatted, bulleted lists.\"\n",
    "explain_system_message = {\n",
    "        \"role\": \"system\",\n",
    "        \"content\": \"You are a world-class Python developer with an eagle eye for unintended bugs and edge cases. You carefully explain code with great detail and accuracy. You organize your explanations in markdown-formatted, bulleted lists.\",\n",
    "    }\n",
    "explain_user_message = {\n",
    "        \"role\": \"user\",\n",
    "        \"content\": \"Please explain the following Python function. Review what each element of the function is doing precisely and what the author's intentions may have been. Organize your explanation as a markdown-formatted, bulleted list.\"\n",
    "\n",
    "\n",
    "}\n",
    "explain_messages = [explain_system_message, explain_user_message]\n",
    "\n",
    "\n",
    "# start a run\n",
    "mlflow.start_run()\n",
    "mlflow.log_param(\"system_prompt\", system_prompt)\n",
    "mlflow.log_param(\"temperature\", 0.4)\n",
    "mlflow.log_param(\"top_p\", 0.8)\n",
    "\n",
    "# Create a question answering model using prompt engineering with OpenAI. Log the model\n",
    "# to MLflow Tracking\n",
    "logged_model = mlflow.openai.log_model(\n",
    "  model=\"gpt-3.5-turbo\",\n",
    "  task=openai.ChatCompletion,\n",
    "  artifact_path=\"model\",\n",
    "  temperature=0.4,\n",
    "    top_p = 0.8,\n",
    "  messages=explain_messages\n",
    ")\n",
    "example_function1 = \"\"\"def compute_tax(income):\n",
    "    if income <= 18200:\n",
    "        tax = 0\n",
    "    elif income <= 37000:\n",
    "        tax = (income - 18200) * 0.19\n",
    "    elif income <= 90000:\n",
    "        tax = (income - 37000) * 0.235 + 3572\n",
    "    elif income <= 180000:\n",
    "        tax = (income - 90000) * 0.37 + 20797\n",
    "    else:\n",
    "        tax = (income - 180000) * 0.45 + 54097\n",
    "\n",
    "    return tax\n",
    "\"\"\"\n",
    "example_function2 = \"\"\"from pyspark.sql import SparkSession\n",
    "spark = SparkSession.builder.master(\"local[1]\").appName(\"SparkByExamples.com\").getOrCreate()\n",
    "address = [(1,\"14851 Jeffrey Rd\",\"DE\"),\n",
    "    (2,\"43421 Margarita St\",\"NY\"),\n",
    "    (3,\"13111 Siemon Ave\",\"CA\")]\n",
    "df =spark.createDataFrame(address,[\"id\",\"address\",\"state\"])\n",
    "from pyspark.sql.functions import regexp_replace\n",
    "df.withColumn('address', regexp_replace('address', 'Rd', 'Road')) \\\n",
    "  .show(truncate=False)\n",
    "from pyspark.sql.functions import when\n",
    "df.withColumn('address',\n",
    "    when(df.address.endswith('Rd'),regexp_replace(df.address,'Rd','Road')) \\\n",
    "   .when(df.address.endswith('St'),regexp_replace(df.address,'St','Street')) \\\n",
    "   .when(df.address.endswith('Ave'),regexp_replace(df.address,'Ave','Avenue')) \\\n",
    "   .otherwise(df.address)) \\\n",
    "   .show(truncate=False)\n",
    "stateDic={'CA':'California','NY':'New York','DE':'Delaware'}\n",
    "df2=df.rdd.map(lambda x:\n",
    "    (x.id,x.address,stateDic[x.state])\n",
    "    ).toDF([\"id\",\"address\",\"state\"])\n",
    "\"\"\"\n",
    "# Evaluate the model on some example questions\n",
    "functions = pd.DataFrame(\n",
    "  {\n",
    "      \"function\": [\n",
    "          example_function1,\n",
    "          example_function2\n",
    "\n",
    "      ]\n",
    "  }\n",
    ")\n",
    "mlflow.evaluate(\n",
    "  model=logged_model.model_uri,\n",
    "  model_type=\"question-answering\",\n",
    "  data=functions,\n",
    ")\n",
    "mlflow.end_run()"
   ]
  },
  {
   "cell_type": "code",
   "execution_count": null,
   "id": "233dc3ce",
   "metadata": {},
   "outputs": [],
   "source": []
  }
 ],
 "metadata": {
  "kernelspec": {
   "display_name": "Python 3 (ipykernel)",
   "language": "python",
   "name": "python3"
  },
  "language_info": {
   "codemirror_mode": {
    "name": "ipython",
    "version": 3
   },
   "file_extension": ".py",
   "mimetype": "text/x-python",
   "name": "python",
   "nbconvert_exporter": "python",
   "pygments_lexer": "ipython3",
   "version": "3.8.18"
  }
 },
 "nbformat": 4,
 "nbformat_minor": 5
}
